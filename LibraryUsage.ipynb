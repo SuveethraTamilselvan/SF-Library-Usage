{
  "nbformat": 4,
  "nbformat_minor": 0,
  "metadata": {
    "colab": {
      "name": "LibraryUsage.ipynb",
      "provenance": [],
      "collapsed_sections": [],
      "authorship_tag": "ABX9TyPIj+xWdY8TrJpB1MsYU+qz",
      "include_colab_link": true
    },
    "kernelspec": {
      "name": "python3",
      "display_name": "Python 3"
    },
    "language_info": {
      "name": "python"
    }
  },
  "cells": [
    {
      "cell_type": "markdown",
      "metadata": {
        "id": "view-in-github",
        "colab_type": "text"
      },
      "source": [
        "<a href=\"https://colab.research.google.com/github/SuveethraTamilselvan/SF-Library-Usage/blob/main/LibraryUsage.ipynb\" target=\"_parent\"><img src=\"https://colab.research.google.com/assets/colab-badge.svg\" alt=\"Open In Colab\"/></a>"
      ]
    },
    {
      "cell_type": "markdown",
      "source": [
        "**Importing packages**"
      ],
      "metadata": {
        "id": "WlEo2SiG0fgQ"
      }
    },
    {
      "cell_type": "code",
      "execution_count": 267,
      "metadata": {
        "id": "y7q4TOEAVdpr"
      },
      "outputs": [],
      "source": [
        "\"\"\"Importing the required packages\"\"\"\n",
        "\n",
        "# For DataFrames and manipulations\n",
        "import pandas as pd\n",
        "import numpy as np\n",
        "\n",
        "# For data Visualization\n",
        "import matplotlib.pyplot as plt\n",
        "import seaborn as sns\n",
        "import plotly.offline as po\n",
        "import plotly.graph_objects as go\n",
        "import scipy.stats as stats\n",
        "%matplotlib inline\n",
        "import plotly.io as pio\n",
        "pio.renderers.default = 'colab'\n",
        "\n",
        "# For splitting the dataset\n",
        "from sklearn.model_selection import train_test_split\n",
        "\n",
        "# draws a confusion matrix\n",
        "from sklearn.metrics import plot_confusion_matrix \n",
        "\n",
        "from sklearn import model_selection\n",
        "from sklearn import linear_model\n",
        "from sklearn import metrics\n",
        "from sklearn.linear_model import LogisticRegression"
      ]
    },
    {
      "cell_type": "code",
      "source": [
        "mydata = pd.read_csv(\"/content/sample_data/Library_Usage.csv\")\n"
      ],
      "metadata": {
        "id": "ceEnprijVn3l"
      },
      "execution_count": 268,
      "outputs": []
    },
    {
      "cell_type": "markdown",
      "source": [
        "**Explanatory data analysis**"
      ],
      "metadata": {
        "id": "nPCgsw3qalaL"
      }
    },
    {
      "cell_type": "code",
      "source": [
        "# check the top 5 rows\n",
        "mydata.head(5)"
      ],
      "metadata": {
        "colab": {
          "base_uri": "https://localhost:8080/",
          "height": 478
        },
        "id": "44gRqaZ1ajyF",
        "outputId": "5f7cf17e-bf55-4062-d779-6fc0f63f2cf7"
      },
      "execution_count": 269,
      "outputs": [
        {
          "output_type": "execute_result",
          "data": {
            "text/html": [
              "\n",
              "  <div id=\"df-ce8edb5b-436b-49b3-b85e-23bd36265f7e\">\n",
              "    <div class=\"colab-df-container\">\n",
              "      <div>\n",
              "<style scoped>\n",
              "    .dataframe tbody tr th:only-of-type {\n",
              "        vertical-align: middle;\n",
              "    }\n",
              "\n",
              "    .dataframe tbody tr th {\n",
              "        vertical-align: top;\n",
              "    }\n",
              "\n",
              "    .dataframe thead th {\n",
              "        text-align: right;\n",
              "    }\n",
              "</style>\n",
              "<table border=\"1\" class=\"dataframe\">\n",
              "  <thead>\n",
              "    <tr style=\"text-align: right;\">\n",
              "      <th></th>\n",
              "      <th>Patron Type Code</th>\n",
              "      <th>Patron Type Definition</th>\n",
              "      <th>Total Checkouts</th>\n",
              "      <th>Total Renewals</th>\n",
              "      <th>Age Range</th>\n",
              "      <th>Home Library Code</th>\n",
              "      <th>Home Library Definition</th>\n",
              "      <th>Circulation Active Month</th>\n",
              "      <th>Circulation Active Year</th>\n",
              "      <th>Notice Preference Code</th>\n",
              "      <th>Notice Preference Definition</th>\n",
              "      <th>Provided Email Address</th>\n",
              "      <th>Year Patron Registered</th>\n",
              "      <th>Outside of County</th>\n",
              "      <th>Supervisor District</th>\n",
              "    </tr>\n",
              "  </thead>\n",
              "  <tbody>\n",
              "    <tr>\n",
              "      <th>0</th>\n",
              "      <td>0</td>\n",
              "      <td>ADULT</td>\n",
              "      <td>0</td>\n",
              "      <td>0</td>\n",
              "      <td>20 to 24 years</td>\n",
              "      <td>P1</td>\n",
              "      <td>Park</td>\n",
              "      <td>None</td>\n",
              "      <td>None</td>\n",
              "      <td>z</td>\n",
              "      <td>email</td>\n",
              "      <td>True</td>\n",
              "      <td>2014</td>\n",
              "      <td>False</td>\n",
              "      <td>5.0</td>\n",
              "    </tr>\n",
              "    <tr>\n",
              "      <th>1</th>\n",
              "      <td>0</td>\n",
              "      <td>ADULT</td>\n",
              "      <td>31</td>\n",
              "      <td>22</td>\n",
              "      <td>25 to 34 years</td>\n",
              "      <td>S7</td>\n",
              "      <td>Sunset</td>\n",
              "      <td>April</td>\n",
              "      <td>2016</td>\n",
              "      <td>z</td>\n",
              "      <td>email</td>\n",
              "      <td>True</td>\n",
              "      <td>2010</td>\n",
              "      <td>False</td>\n",
              "      <td>4.0</td>\n",
              "    </tr>\n",
              "    <tr>\n",
              "      <th>2</th>\n",
              "      <td>0</td>\n",
              "      <td>ADULT</td>\n",
              "      <td>0</td>\n",
              "      <td>0</td>\n",
              "      <td>45 to 54 years</td>\n",
              "      <td>P1</td>\n",
              "      <td>Park</td>\n",
              "      <td>None</td>\n",
              "      <td>None</td>\n",
              "      <td>a</td>\n",
              "      <td>print</td>\n",
              "      <td>False</td>\n",
              "      <td>2016</td>\n",
              "      <td>True</td>\n",
              "      <td>NaN</td>\n",
              "    </tr>\n",
              "    <tr>\n",
              "      <th>3</th>\n",
              "      <td>0</td>\n",
              "      <td>ADULT</td>\n",
              "      <td>0</td>\n",
              "      <td>0</td>\n",
              "      <td>25 to 34 years</td>\n",
              "      <td>X</td>\n",
              "      <td>Main Library</td>\n",
              "      <td>None</td>\n",
              "      <td>None</td>\n",
              "      <td>z</td>\n",
              "      <td>email</td>\n",
              "      <td>True</td>\n",
              "      <td>2015</td>\n",
              "      <td>False</td>\n",
              "      <td>3.0</td>\n",
              "    </tr>\n",
              "    <tr>\n",
              "      <th>4</th>\n",
              "      <td>0</td>\n",
              "      <td>ADULT</td>\n",
              "      <td>126</td>\n",
              "      <td>11</td>\n",
              "      <td>45 to 54 years</td>\n",
              "      <td>M2</td>\n",
              "      <td>Marina</td>\n",
              "      <td>January</td>\n",
              "      <td>2016</td>\n",
              "      <td>z</td>\n",
              "      <td>email</td>\n",
              "      <td>True</td>\n",
              "      <td>2003</td>\n",
              "      <td>False</td>\n",
              "      <td>2.0</td>\n",
              "    </tr>\n",
              "  </tbody>\n",
              "</table>\n",
              "</div>\n",
              "      <button class=\"colab-df-convert\" onclick=\"convertToInteractive('df-ce8edb5b-436b-49b3-b85e-23bd36265f7e')\"\n",
              "              title=\"Convert this dataframe to an interactive table.\"\n",
              "              style=\"display:none;\">\n",
              "        \n",
              "  <svg xmlns=\"http://www.w3.org/2000/svg\" height=\"24px\"viewBox=\"0 0 24 24\"\n",
              "       width=\"24px\">\n",
              "    <path d=\"M0 0h24v24H0V0z\" fill=\"none\"/>\n",
              "    <path d=\"M18.56 5.44l.94 2.06.94-2.06 2.06-.94-2.06-.94-.94-2.06-.94 2.06-2.06.94zm-11 1L8.5 8.5l.94-2.06 2.06-.94-2.06-.94L8.5 2.5l-.94 2.06-2.06.94zm10 10l.94 2.06.94-2.06 2.06-.94-2.06-.94-.94-2.06-.94 2.06-2.06.94z\"/><path d=\"M17.41 7.96l-1.37-1.37c-.4-.4-.92-.59-1.43-.59-.52 0-1.04.2-1.43.59L10.3 9.45l-7.72 7.72c-.78.78-.78 2.05 0 2.83L4 21.41c.39.39.9.59 1.41.59.51 0 1.02-.2 1.41-.59l7.78-7.78 2.81-2.81c.8-.78.8-2.07 0-2.86zM5.41 20L4 18.59l7.72-7.72 1.47 1.35L5.41 20z\"/>\n",
              "  </svg>\n",
              "      </button>\n",
              "      \n",
              "  <style>\n",
              "    .colab-df-container {\n",
              "      display:flex;\n",
              "      flex-wrap:wrap;\n",
              "      gap: 12px;\n",
              "    }\n",
              "\n",
              "    .colab-df-convert {\n",
              "      background-color: #E8F0FE;\n",
              "      border: none;\n",
              "      border-radius: 50%;\n",
              "      cursor: pointer;\n",
              "      display: none;\n",
              "      fill: #1967D2;\n",
              "      height: 32px;\n",
              "      padding: 0 0 0 0;\n",
              "      width: 32px;\n",
              "    }\n",
              "\n",
              "    .colab-df-convert:hover {\n",
              "      background-color: #E2EBFA;\n",
              "      box-shadow: 0px 1px 2px rgba(60, 64, 67, 0.3), 0px 1px 3px 1px rgba(60, 64, 67, 0.15);\n",
              "      fill: #174EA6;\n",
              "    }\n",
              "\n",
              "    [theme=dark] .colab-df-convert {\n",
              "      background-color: #3B4455;\n",
              "      fill: #D2E3FC;\n",
              "    }\n",
              "\n",
              "    [theme=dark] .colab-df-convert:hover {\n",
              "      background-color: #434B5C;\n",
              "      box-shadow: 0px 1px 3px 1px rgba(0, 0, 0, 0.15);\n",
              "      filter: drop-shadow(0px 1px 2px rgba(0, 0, 0, 0.3));\n",
              "      fill: #FFFFFF;\n",
              "    }\n",
              "  </style>\n",
              "\n",
              "      <script>\n",
              "        const buttonEl =\n",
              "          document.querySelector('#df-ce8edb5b-436b-49b3-b85e-23bd36265f7e button.colab-df-convert');\n",
              "        buttonEl.style.display =\n",
              "          google.colab.kernel.accessAllowed ? 'block' : 'none';\n",
              "\n",
              "        async function convertToInteractive(key) {\n",
              "          const element = document.querySelector('#df-ce8edb5b-436b-49b3-b85e-23bd36265f7e');\n",
              "          const dataTable =\n",
              "            await google.colab.kernel.invokeFunction('convertToInteractive',\n",
              "                                                     [key], {});\n",
              "          if (!dataTable) return;\n",
              "\n",
              "          const docLinkHtml = 'Like what you see? Visit the ' +\n",
              "            '<a target=\"_blank\" href=https://colab.research.google.com/notebooks/data_table.ipynb>data table notebook</a>'\n",
              "            + ' to learn more about interactive tables.';\n",
              "          element.innerHTML = '';\n",
              "          dataTable['output_type'] = 'display_data';\n",
              "          await google.colab.output.renderOutput(dataTable, element);\n",
              "          const docLink = document.createElement('div');\n",
              "          docLink.innerHTML = docLinkHtml;\n",
              "          element.appendChild(docLink);\n",
              "        }\n",
              "      </script>\n",
              "    </div>\n",
              "  </div>\n",
              "  "
            ],
            "text/plain": [
              "   Patron Type Code Patron Type Definition  Total Checkouts  Total Renewals  \\\n",
              "0                 0                  ADULT                0               0   \n",
              "1                 0                  ADULT               31              22   \n",
              "2                 0                  ADULT                0               0   \n",
              "3                 0                  ADULT                0               0   \n",
              "4                 0                  ADULT              126              11   \n",
              "\n",
              "        Age Range Home Library Code Home Library Definition  \\\n",
              "0  20 to 24 years                P1                    Park   \n",
              "1  25 to 34 years                S7                  Sunset   \n",
              "2  45 to 54 years                P1                    Park   \n",
              "3  25 to 34 years                 X            Main Library   \n",
              "4  45 to 54 years                M2                  Marina   \n",
              "\n",
              "  Circulation Active Month Circulation Active Year Notice Preference Code  \\\n",
              "0                     None                    None                      z   \n",
              "1                    April                    2016                      z   \n",
              "2                     None                    None                      a   \n",
              "3                     None                    None                      z   \n",
              "4                  January                    2016                      z   \n",
              "\n",
              "  Notice Preference Definition  Provided Email Address  \\\n",
              "0                        email                    True   \n",
              "1                        email                    True   \n",
              "2                        print                   False   \n",
              "3                        email                    True   \n",
              "4                        email                    True   \n",
              "\n",
              "   Year Patron Registered  Outside of County  Supervisor District  \n",
              "0                    2014              False                  5.0  \n",
              "1                    2010              False                  4.0  \n",
              "2                    2016               True                  NaN  \n",
              "3                    2015              False                  3.0  \n",
              "4                    2003              False                  2.0  "
            ]
          },
          "metadata": {},
          "execution_count": 269
        }
      ]
    },
    {
      "cell_type": "code",
      "source": [
        "# check all the columns of the data\n",
        "mydata.columns"
      ],
      "metadata": {
        "colab": {
          "base_uri": "https://localhost:8080/"
        },
        "id": "RlcQNEyMaqn0",
        "outputId": "206455c1-aa85-46fe-f536-d5d4b2b0f4b1"
      },
      "execution_count": 270,
      "outputs": [
        {
          "output_type": "execute_result",
          "data": {
            "text/plain": [
              "Index(['Patron Type Code', 'Patron Type Definition', 'Total Checkouts',\n",
              "       'Total Renewals', 'Age Range', 'Home Library Code',\n",
              "       'Home Library Definition', 'Circulation Active Month',\n",
              "       'Circulation Active Year', 'Notice Preference Code',\n",
              "       'Notice Preference Definition', 'Provided Email Address',\n",
              "       'Year Patron Registered', 'Outside of County', 'Supervisor District'],\n",
              "      dtype='object')"
            ]
          },
          "metadata": {},
          "execution_count": 270
        }
      ]
    },
    {
      "cell_type": "code",
      "source": [
        "# check the data type for the columns\n",
        "mydata.info()"
      ],
      "metadata": {
        "colab": {
          "base_uri": "https://localhost:8080/"
        },
        "id": "Vi95GK-ha2zn",
        "outputId": "7afe4d13-a89e-4dcd-e819-2d9fc57d0c90"
      },
      "execution_count": 271,
      "outputs": [
        {
          "output_type": "stream",
          "name": "stdout",
          "text": [
            "<class 'pandas.core.frame.DataFrame'>\n",
            "RangeIndex: 423448 entries, 0 to 423447\n",
            "Data columns (total 15 columns):\n",
            " #   Column                        Non-Null Count   Dtype  \n",
            "---  ------                        --------------   -----  \n",
            " 0   Patron Type Code              423448 non-null  int64  \n",
            " 1   Patron Type Definition        423448 non-null  object \n",
            " 2   Total Checkouts               423448 non-null  int64  \n",
            " 3   Total Renewals                423448 non-null  int64  \n",
            " 4   Age Range                     423233 non-null  object \n",
            " 5   Home Library Code             423408 non-null  object \n",
            " 6   Home Library Definition       423448 non-null  object \n",
            " 7   Circulation Active Month      423448 non-null  object \n",
            " 8   Circulation Active Year       423448 non-null  object \n",
            " 9   Notice Preference Code        423448 non-null  object \n",
            " 10  Notice Preference Definition  423448 non-null  object \n",
            " 11  Provided Email Address        423448 non-null  bool   \n",
            " 12  Year Patron Registered        423448 non-null  int64  \n",
            " 13  Outside of County             423448 non-null  bool   \n",
            " 14  Supervisor District           313138 non-null  float64\n",
            "dtypes: bool(2), float64(1), int64(4), object(8)\n",
            "memory usage: 42.8+ MB\n"
          ]
        }
      ]
    },
    {
      "cell_type": "code",
      "source": [
        "# Identify Columns that Contain a Single value and delete the columns which have single values \n",
        "mydata.nunique()"
      ],
      "metadata": {
        "colab": {
          "base_uri": "https://localhost:8080/"
        },
        "id": "adg8mn8rbHtY",
        "outputId": "4810248e-6462-4c6d-a94a-495a7e3c3643"
      },
      "execution_count": 272,
      "outputs": [
        {
          "output_type": "execute_result",
          "data": {
            "text/plain": [
              "Patron Type Code                  18\n",
              "Patron Type Definition            18\n",
              "Total Checkouts                 4274\n",
              "Total Renewals                  2738\n",
              "Age Range                         10\n",
              "Home Library Code                 79\n",
              "Home Library Definition           35\n",
              "Circulation Active Month          13\n",
              "Circulation Active Year           15\n",
              "Notice Preference Code             4\n",
              "Notice Preference Definition       4\n",
              "Provided Email Address             2\n",
              "Year Patron Registered            14\n",
              "Outside of County                  2\n",
              "Supervisor District               11\n",
              "dtype: int64"
            ]
          },
          "metadata": {},
          "execution_count": 272
        }
      ]
    },
    {
      "cell_type": "markdown",
      "source": [
        "Out of all the columns, there is no column with a single value and thus I din't delete any of them."
      ],
      "metadata": {
        "id": "oUZySFxnbU-b"
      }
    },
    {
      "cell_type": "code",
      "source": [
        "#use describe function and then take the transpose for better visualization\n",
        "mydata.describe().T"
      ],
      "metadata": {
        "colab": {
          "base_uri": "https://localhost:8080/",
          "height": 206
        },
        "id": "Ho72FfodbcDR",
        "outputId": "dfd53a33-0b4c-4f2c-af28-6afeb3762417"
      },
      "execution_count": 273,
      "outputs": [
        {
          "output_type": "execute_result",
          "data": {
            "text/html": [
              "\n",
              "  <div id=\"df-baf87319-79f6-4913-a2a4-b52989d87d4f\">\n",
              "    <div class=\"colab-df-container\">\n",
              "      <div>\n",
              "<style scoped>\n",
              "    .dataframe tbody tr th:only-of-type {\n",
              "        vertical-align: middle;\n",
              "    }\n",
              "\n",
              "    .dataframe tbody tr th {\n",
              "        vertical-align: top;\n",
              "    }\n",
              "\n",
              "    .dataframe thead th {\n",
              "        text-align: right;\n",
              "    }\n",
              "</style>\n",
              "<table border=\"1\" class=\"dataframe\">\n",
              "  <thead>\n",
              "    <tr style=\"text-align: right;\">\n",
              "      <th></th>\n",
              "      <th>count</th>\n",
              "      <th>mean</th>\n",
              "      <th>std</th>\n",
              "      <th>min</th>\n",
              "      <th>25%</th>\n",
              "      <th>50%</th>\n",
              "      <th>75%</th>\n",
              "      <th>max</th>\n",
              "    </tr>\n",
              "  </thead>\n",
              "  <tbody>\n",
              "    <tr>\n",
              "      <th>Patron Type Code</th>\n",
              "      <td>423448.0</td>\n",
              "      <td>1.036765</td>\n",
              "      <td>4.188198</td>\n",
              "      <td>0.0</td>\n",
              "      <td>0.0</td>\n",
              "      <td>0.0</td>\n",
              "      <td>1.0</td>\n",
              "      <td>104.0</td>\n",
              "    </tr>\n",
              "    <tr>\n",
              "      <th>Total Checkouts</th>\n",
              "      <td>423448.0</td>\n",
              "      <td>161.982097</td>\n",
              "      <td>453.703678</td>\n",
              "      <td>0.0</td>\n",
              "      <td>2.0</td>\n",
              "      <td>19.0</td>\n",
              "      <td>113.0</td>\n",
              "      <td>35907.0</td>\n",
              "    </tr>\n",
              "    <tr>\n",
              "      <th>Total Renewals</th>\n",
              "      <td>423448.0</td>\n",
              "      <td>59.657327</td>\n",
              "      <td>225.009917</td>\n",
              "      <td>0.0</td>\n",
              "      <td>0.0</td>\n",
              "      <td>2.0</td>\n",
              "      <td>27.0</td>\n",
              "      <td>8965.0</td>\n",
              "    </tr>\n",
              "    <tr>\n",
              "      <th>Year Patron Registered</th>\n",
              "      <td>423448.0</td>\n",
              "      <td>2010.348917</td>\n",
              "      <td>4.357374</td>\n",
              "      <td>2003.0</td>\n",
              "      <td>2007.0</td>\n",
              "      <td>2012.0</td>\n",
              "      <td>2014.0</td>\n",
              "      <td>2016.0</td>\n",
              "    </tr>\n",
              "    <tr>\n",
              "      <th>Supervisor District</th>\n",
              "      <td>313138.0</td>\n",
              "      <td>6.288240</td>\n",
              "      <td>3.123634</td>\n",
              "      <td>1.0</td>\n",
              "      <td>4.0</td>\n",
              "      <td>6.0</td>\n",
              "      <td>9.0</td>\n",
              "      <td>11.0</td>\n",
              "    </tr>\n",
              "  </tbody>\n",
              "</table>\n",
              "</div>\n",
              "      <button class=\"colab-df-convert\" onclick=\"convertToInteractive('df-baf87319-79f6-4913-a2a4-b52989d87d4f')\"\n",
              "              title=\"Convert this dataframe to an interactive table.\"\n",
              "              style=\"display:none;\">\n",
              "        \n",
              "  <svg xmlns=\"http://www.w3.org/2000/svg\" height=\"24px\"viewBox=\"0 0 24 24\"\n",
              "       width=\"24px\">\n",
              "    <path d=\"M0 0h24v24H0V0z\" fill=\"none\"/>\n",
              "    <path d=\"M18.56 5.44l.94 2.06.94-2.06 2.06-.94-2.06-.94-.94-2.06-.94 2.06-2.06.94zm-11 1L8.5 8.5l.94-2.06 2.06-.94-2.06-.94L8.5 2.5l-.94 2.06-2.06.94zm10 10l.94 2.06.94-2.06 2.06-.94-2.06-.94-.94-2.06-.94 2.06-2.06.94z\"/><path d=\"M17.41 7.96l-1.37-1.37c-.4-.4-.92-.59-1.43-.59-.52 0-1.04.2-1.43.59L10.3 9.45l-7.72 7.72c-.78.78-.78 2.05 0 2.83L4 21.41c.39.39.9.59 1.41.59.51 0 1.02-.2 1.41-.59l7.78-7.78 2.81-2.81c.8-.78.8-2.07 0-2.86zM5.41 20L4 18.59l7.72-7.72 1.47 1.35L5.41 20z\"/>\n",
              "  </svg>\n",
              "      </button>\n",
              "      \n",
              "  <style>\n",
              "    .colab-df-container {\n",
              "      display:flex;\n",
              "      flex-wrap:wrap;\n",
              "      gap: 12px;\n",
              "    }\n",
              "\n",
              "    .colab-df-convert {\n",
              "      background-color: #E8F0FE;\n",
              "      border: none;\n",
              "      border-radius: 50%;\n",
              "      cursor: pointer;\n",
              "      display: none;\n",
              "      fill: #1967D2;\n",
              "      height: 32px;\n",
              "      padding: 0 0 0 0;\n",
              "      width: 32px;\n",
              "    }\n",
              "\n",
              "    .colab-df-convert:hover {\n",
              "      background-color: #E2EBFA;\n",
              "      box-shadow: 0px 1px 2px rgba(60, 64, 67, 0.3), 0px 1px 3px 1px rgba(60, 64, 67, 0.15);\n",
              "      fill: #174EA6;\n",
              "    }\n",
              "\n",
              "    [theme=dark] .colab-df-convert {\n",
              "      background-color: #3B4455;\n",
              "      fill: #D2E3FC;\n",
              "    }\n",
              "\n",
              "    [theme=dark] .colab-df-convert:hover {\n",
              "      background-color: #434B5C;\n",
              "      box-shadow: 0px 1px 3px 1px rgba(0, 0, 0, 0.15);\n",
              "      filter: drop-shadow(0px 1px 2px rgba(0, 0, 0, 0.3));\n",
              "      fill: #FFFFFF;\n",
              "    }\n",
              "  </style>\n",
              "\n",
              "      <script>\n",
              "        const buttonEl =\n",
              "          document.querySelector('#df-baf87319-79f6-4913-a2a4-b52989d87d4f button.colab-df-convert');\n",
              "        buttonEl.style.display =\n",
              "          google.colab.kernel.accessAllowed ? 'block' : 'none';\n",
              "\n",
              "        async function convertToInteractive(key) {\n",
              "          const element = document.querySelector('#df-baf87319-79f6-4913-a2a4-b52989d87d4f');\n",
              "          const dataTable =\n",
              "            await google.colab.kernel.invokeFunction('convertToInteractive',\n",
              "                                                     [key], {});\n",
              "          if (!dataTable) return;\n",
              "\n",
              "          const docLinkHtml = 'Like what you see? Visit the ' +\n",
              "            '<a target=\"_blank\" href=https://colab.research.google.com/notebooks/data_table.ipynb>data table notebook</a>'\n",
              "            + ' to learn more about interactive tables.';\n",
              "          element.innerHTML = '';\n",
              "          dataTable['output_type'] = 'display_data';\n",
              "          await google.colab.output.renderOutput(dataTable, element);\n",
              "          const docLink = document.createElement('div');\n",
              "          docLink.innerHTML = docLinkHtml;\n",
              "          element.appendChild(docLink);\n",
              "        }\n",
              "      </script>\n",
              "    </div>\n",
              "  </div>\n",
              "  "
            ],
            "text/plain": [
              "                           count         mean         std     min     25%  \\\n",
              "Patron Type Code        423448.0     1.036765    4.188198     0.0     0.0   \n",
              "Total Checkouts         423448.0   161.982097  453.703678     0.0     2.0   \n",
              "Total Renewals          423448.0    59.657327  225.009917     0.0     0.0   \n",
              "Year Patron Registered  423448.0  2010.348917    4.357374  2003.0  2007.0   \n",
              "Supervisor District     313138.0     6.288240    3.123634     1.0     4.0   \n",
              "\n",
              "                           50%     75%      max  \n",
              "Patron Type Code           0.0     1.0    104.0  \n",
              "Total Checkouts           19.0   113.0  35907.0  \n",
              "Total Renewals             2.0    27.0   8965.0  \n",
              "Year Patron Registered  2012.0  2014.0   2016.0  \n",
              "Supervisor District        6.0     9.0     11.0  "
            ]
          },
          "metadata": {},
          "execution_count": 273
        }
      ]
    },
    {
      "cell_type": "markdown",
      "source": [
        "**Missing values**\n"
      ],
      "metadata": {
        "id": "UYWKTseTcauC"
      }
    },
    {
      "cell_type": "code",
      "source": [
        "# check missing values in data\n",
        "mydata.isna()"
      ],
      "metadata": {
        "colab": {
          "base_uri": "https://localhost:8080/",
          "height": 522
        },
        "id": "JvMPBQUmbsPV",
        "outputId": "3e780c33-7fd9-4b83-9c18-f3a1d5e545a1"
      },
      "execution_count": 274,
      "outputs": [
        {
          "output_type": "execute_result",
          "data": {
            "text/html": [
              "\n",
              "  <div id=\"df-285e506f-9812-47ee-b64b-d26848709562\">\n",
              "    <div class=\"colab-df-container\">\n",
              "      <div>\n",
              "<style scoped>\n",
              "    .dataframe tbody tr th:only-of-type {\n",
              "        vertical-align: middle;\n",
              "    }\n",
              "\n",
              "    .dataframe tbody tr th {\n",
              "        vertical-align: top;\n",
              "    }\n",
              "\n",
              "    .dataframe thead th {\n",
              "        text-align: right;\n",
              "    }\n",
              "</style>\n",
              "<table border=\"1\" class=\"dataframe\">\n",
              "  <thead>\n",
              "    <tr style=\"text-align: right;\">\n",
              "      <th></th>\n",
              "      <th>Patron Type Code</th>\n",
              "      <th>Patron Type Definition</th>\n",
              "      <th>Total Checkouts</th>\n",
              "      <th>Total Renewals</th>\n",
              "      <th>Age Range</th>\n",
              "      <th>Home Library Code</th>\n",
              "      <th>Home Library Definition</th>\n",
              "      <th>Circulation Active Month</th>\n",
              "      <th>Circulation Active Year</th>\n",
              "      <th>Notice Preference Code</th>\n",
              "      <th>Notice Preference Definition</th>\n",
              "      <th>Provided Email Address</th>\n",
              "      <th>Year Patron Registered</th>\n",
              "      <th>Outside of County</th>\n",
              "      <th>Supervisor District</th>\n",
              "    </tr>\n",
              "  </thead>\n",
              "  <tbody>\n",
              "    <tr>\n",
              "      <th>0</th>\n",
              "      <td>False</td>\n",
              "      <td>False</td>\n",
              "      <td>False</td>\n",
              "      <td>False</td>\n",
              "      <td>False</td>\n",
              "      <td>False</td>\n",
              "      <td>False</td>\n",
              "      <td>False</td>\n",
              "      <td>False</td>\n",
              "      <td>False</td>\n",
              "      <td>False</td>\n",
              "      <td>False</td>\n",
              "      <td>False</td>\n",
              "      <td>False</td>\n",
              "      <td>False</td>\n",
              "    </tr>\n",
              "    <tr>\n",
              "      <th>1</th>\n",
              "      <td>False</td>\n",
              "      <td>False</td>\n",
              "      <td>False</td>\n",
              "      <td>False</td>\n",
              "      <td>False</td>\n",
              "      <td>False</td>\n",
              "      <td>False</td>\n",
              "      <td>False</td>\n",
              "      <td>False</td>\n",
              "      <td>False</td>\n",
              "      <td>False</td>\n",
              "      <td>False</td>\n",
              "      <td>False</td>\n",
              "      <td>False</td>\n",
              "      <td>False</td>\n",
              "    </tr>\n",
              "    <tr>\n",
              "      <th>2</th>\n",
              "      <td>False</td>\n",
              "      <td>False</td>\n",
              "      <td>False</td>\n",
              "      <td>False</td>\n",
              "      <td>False</td>\n",
              "      <td>False</td>\n",
              "      <td>False</td>\n",
              "      <td>False</td>\n",
              "      <td>False</td>\n",
              "      <td>False</td>\n",
              "      <td>False</td>\n",
              "      <td>False</td>\n",
              "      <td>False</td>\n",
              "      <td>False</td>\n",
              "      <td>True</td>\n",
              "    </tr>\n",
              "    <tr>\n",
              "      <th>3</th>\n",
              "      <td>False</td>\n",
              "      <td>False</td>\n",
              "      <td>False</td>\n",
              "      <td>False</td>\n",
              "      <td>False</td>\n",
              "      <td>False</td>\n",
              "      <td>False</td>\n",
              "      <td>False</td>\n",
              "      <td>False</td>\n",
              "      <td>False</td>\n",
              "      <td>False</td>\n",
              "      <td>False</td>\n",
              "      <td>False</td>\n",
              "      <td>False</td>\n",
              "      <td>False</td>\n",
              "    </tr>\n",
              "    <tr>\n",
              "      <th>4</th>\n",
              "      <td>False</td>\n",
              "      <td>False</td>\n",
              "      <td>False</td>\n",
              "      <td>False</td>\n",
              "      <td>False</td>\n",
              "      <td>False</td>\n",
              "      <td>False</td>\n",
              "      <td>False</td>\n",
              "      <td>False</td>\n",
              "      <td>False</td>\n",
              "      <td>False</td>\n",
              "      <td>False</td>\n",
              "      <td>False</td>\n",
              "      <td>False</td>\n",
              "      <td>False</td>\n",
              "    </tr>\n",
              "    <tr>\n",
              "      <th>...</th>\n",
              "      <td>...</td>\n",
              "      <td>...</td>\n",
              "      <td>...</td>\n",
              "      <td>...</td>\n",
              "      <td>...</td>\n",
              "      <td>...</td>\n",
              "      <td>...</td>\n",
              "      <td>...</td>\n",
              "      <td>...</td>\n",
              "      <td>...</td>\n",
              "      <td>...</td>\n",
              "      <td>...</td>\n",
              "      <td>...</td>\n",
              "      <td>...</td>\n",
              "      <td>...</td>\n",
              "    </tr>\n",
              "    <tr>\n",
              "      <th>423443</th>\n",
              "      <td>False</td>\n",
              "      <td>False</td>\n",
              "      <td>False</td>\n",
              "      <td>False</td>\n",
              "      <td>False</td>\n",
              "      <td>False</td>\n",
              "      <td>False</td>\n",
              "      <td>False</td>\n",
              "      <td>False</td>\n",
              "      <td>False</td>\n",
              "      <td>False</td>\n",
              "      <td>False</td>\n",
              "      <td>False</td>\n",
              "      <td>False</td>\n",
              "      <td>False</td>\n",
              "    </tr>\n",
              "    <tr>\n",
              "      <th>423444</th>\n",
              "      <td>False</td>\n",
              "      <td>False</td>\n",
              "      <td>False</td>\n",
              "      <td>False</td>\n",
              "      <td>False</td>\n",
              "      <td>False</td>\n",
              "      <td>False</td>\n",
              "      <td>False</td>\n",
              "      <td>False</td>\n",
              "      <td>False</td>\n",
              "      <td>False</td>\n",
              "      <td>False</td>\n",
              "      <td>False</td>\n",
              "      <td>False</td>\n",
              "      <td>False</td>\n",
              "    </tr>\n",
              "    <tr>\n",
              "      <th>423445</th>\n",
              "      <td>False</td>\n",
              "      <td>False</td>\n",
              "      <td>False</td>\n",
              "      <td>False</td>\n",
              "      <td>False</td>\n",
              "      <td>False</td>\n",
              "      <td>False</td>\n",
              "      <td>False</td>\n",
              "      <td>False</td>\n",
              "      <td>False</td>\n",
              "      <td>False</td>\n",
              "      <td>False</td>\n",
              "      <td>False</td>\n",
              "      <td>False</td>\n",
              "      <td>False</td>\n",
              "    </tr>\n",
              "    <tr>\n",
              "      <th>423446</th>\n",
              "      <td>False</td>\n",
              "      <td>False</td>\n",
              "      <td>False</td>\n",
              "      <td>False</td>\n",
              "      <td>False</td>\n",
              "      <td>False</td>\n",
              "      <td>False</td>\n",
              "      <td>False</td>\n",
              "      <td>False</td>\n",
              "      <td>False</td>\n",
              "      <td>False</td>\n",
              "      <td>False</td>\n",
              "      <td>False</td>\n",
              "      <td>False</td>\n",
              "      <td>False</td>\n",
              "    </tr>\n",
              "    <tr>\n",
              "      <th>423447</th>\n",
              "      <td>False</td>\n",
              "      <td>False</td>\n",
              "      <td>False</td>\n",
              "      <td>False</td>\n",
              "      <td>False</td>\n",
              "      <td>False</td>\n",
              "      <td>False</td>\n",
              "      <td>False</td>\n",
              "      <td>False</td>\n",
              "      <td>False</td>\n",
              "      <td>False</td>\n",
              "      <td>False</td>\n",
              "      <td>False</td>\n",
              "      <td>False</td>\n",
              "      <td>False</td>\n",
              "    </tr>\n",
              "  </tbody>\n",
              "</table>\n",
              "<p>423448 rows × 15 columns</p>\n",
              "</div>\n",
              "      <button class=\"colab-df-convert\" onclick=\"convertToInteractive('df-285e506f-9812-47ee-b64b-d26848709562')\"\n",
              "              title=\"Convert this dataframe to an interactive table.\"\n",
              "              style=\"display:none;\">\n",
              "        \n",
              "  <svg xmlns=\"http://www.w3.org/2000/svg\" height=\"24px\"viewBox=\"0 0 24 24\"\n",
              "       width=\"24px\">\n",
              "    <path d=\"M0 0h24v24H0V0z\" fill=\"none\"/>\n",
              "    <path d=\"M18.56 5.44l.94 2.06.94-2.06 2.06-.94-2.06-.94-.94-2.06-.94 2.06-2.06.94zm-11 1L8.5 8.5l.94-2.06 2.06-.94-2.06-.94L8.5 2.5l-.94 2.06-2.06.94zm10 10l.94 2.06.94-2.06 2.06-.94-2.06-.94-.94-2.06-.94 2.06-2.06.94z\"/><path d=\"M17.41 7.96l-1.37-1.37c-.4-.4-.92-.59-1.43-.59-.52 0-1.04.2-1.43.59L10.3 9.45l-7.72 7.72c-.78.78-.78 2.05 0 2.83L4 21.41c.39.39.9.59 1.41.59.51 0 1.02-.2 1.41-.59l7.78-7.78 2.81-2.81c.8-.78.8-2.07 0-2.86zM5.41 20L4 18.59l7.72-7.72 1.47 1.35L5.41 20z\"/>\n",
              "  </svg>\n",
              "      </button>\n",
              "      \n",
              "  <style>\n",
              "    .colab-df-container {\n",
              "      display:flex;\n",
              "      flex-wrap:wrap;\n",
              "      gap: 12px;\n",
              "    }\n",
              "\n",
              "    .colab-df-convert {\n",
              "      background-color: #E8F0FE;\n",
              "      border: none;\n",
              "      border-radius: 50%;\n",
              "      cursor: pointer;\n",
              "      display: none;\n",
              "      fill: #1967D2;\n",
              "      height: 32px;\n",
              "      padding: 0 0 0 0;\n",
              "      width: 32px;\n",
              "    }\n",
              "\n",
              "    .colab-df-convert:hover {\n",
              "      background-color: #E2EBFA;\n",
              "      box-shadow: 0px 1px 2px rgba(60, 64, 67, 0.3), 0px 1px 3px 1px rgba(60, 64, 67, 0.15);\n",
              "      fill: #174EA6;\n",
              "    }\n",
              "\n",
              "    [theme=dark] .colab-df-convert {\n",
              "      background-color: #3B4455;\n",
              "      fill: #D2E3FC;\n",
              "    }\n",
              "\n",
              "    [theme=dark] .colab-df-convert:hover {\n",
              "      background-color: #434B5C;\n",
              "      box-shadow: 0px 1px 3px 1px rgba(0, 0, 0, 0.15);\n",
              "      filter: drop-shadow(0px 1px 2px rgba(0, 0, 0, 0.3));\n",
              "      fill: #FFFFFF;\n",
              "    }\n",
              "  </style>\n",
              "\n",
              "      <script>\n",
              "        const buttonEl =\n",
              "          document.querySelector('#df-285e506f-9812-47ee-b64b-d26848709562 button.colab-df-convert');\n",
              "        buttonEl.style.display =\n",
              "          google.colab.kernel.accessAllowed ? 'block' : 'none';\n",
              "\n",
              "        async function convertToInteractive(key) {\n",
              "          const element = document.querySelector('#df-285e506f-9812-47ee-b64b-d26848709562');\n",
              "          const dataTable =\n",
              "            await google.colab.kernel.invokeFunction('convertToInteractive',\n",
              "                                                     [key], {});\n",
              "          if (!dataTable) return;\n",
              "\n",
              "          const docLinkHtml = 'Like what you see? Visit the ' +\n",
              "            '<a target=\"_blank\" href=https://colab.research.google.com/notebooks/data_table.ipynb>data table notebook</a>'\n",
              "            + ' to learn more about interactive tables.';\n",
              "          element.innerHTML = '';\n",
              "          dataTable['output_type'] = 'display_data';\n",
              "          await google.colab.output.renderOutput(dataTable, element);\n",
              "          const docLink = document.createElement('div');\n",
              "          docLink.innerHTML = docLinkHtml;\n",
              "          element.appendChild(docLink);\n",
              "        }\n",
              "      </script>\n",
              "    </div>\n",
              "  </div>\n",
              "  "
            ],
            "text/plain": [
              "        Patron Type Code  Patron Type Definition  Total Checkouts  \\\n",
              "0                  False                   False            False   \n",
              "1                  False                   False            False   \n",
              "2                  False                   False            False   \n",
              "3                  False                   False            False   \n",
              "4                  False                   False            False   \n",
              "...                  ...                     ...              ...   \n",
              "423443             False                   False            False   \n",
              "423444             False                   False            False   \n",
              "423445             False                   False            False   \n",
              "423446             False                   False            False   \n",
              "423447             False                   False            False   \n",
              "\n",
              "        Total Renewals  Age Range  Home Library Code  Home Library Definition  \\\n",
              "0                False      False              False                    False   \n",
              "1                False      False              False                    False   \n",
              "2                False      False              False                    False   \n",
              "3                False      False              False                    False   \n",
              "4                False      False              False                    False   \n",
              "...                ...        ...                ...                      ...   \n",
              "423443           False      False              False                    False   \n",
              "423444           False      False              False                    False   \n",
              "423445           False      False              False                    False   \n",
              "423446           False      False              False                    False   \n",
              "423447           False      False              False                    False   \n",
              "\n",
              "        Circulation Active Month  Circulation Active Year  \\\n",
              "0                          False                    False   \n",
              "1                          False                    False   \n",
              "2                          False                    False   \n",
              "3                          False                    False   \n",
              "4                          False                    False   \n",
              "...                          ...                      ...   \n",
              "423443                     False                    False   \n",
              "423444                     False                    False   \n",
              "423445                     False                    False   \n",
              "423446                     False                    False   \n",
              "423447                     False                    False   \n",
              "\n",
              "        Notice Preference Code  Notice Preference Definition  \\\n",
              "0                        False                         False   \n",
              "1                        False                         False   \n",
              "2                        False                         False   \n",
              "3                        False                         False   \n",
              "4                        False                         False   \n",
              "...                        ...                           ...   \n",
              "423443                   False                         False   \n",
              "423444                   False                         False   \n",
              "423445                   False                         False   \n",
              "423446                   False                         False   \n",
              "423447                   False                         False   \n",
              "\n",
              "        Provided Email Address  Year Patron Registered  Outside of County  \\\n",
              "0                        False                   False              False   \n",
              "1                        False                   False              False   \n",
              "2                        False                   False              False   \n",
              "3                        False                   False              False   \n",
              "4                        False                   False              False   \n",
              "...                        ...                     ...                ...   \n",
              "423443                   False                   False              False   \n",
              "423444                   False                   False              False   \n",
              "423445                   False                   False              False   \n",
              "423446                   False                   False              False   \n",
              "423447                   False                   False              False   \n",
              "\n",
              "        Supervisor District  \n",
              "0                     False  \n",
              "1                     False  \n",
              "2                      True  \n",
              "3                     False  \n",
              "4                     False  \n",
              "...                     ...  \n",
              "423443                False  \n",
              "423444                False  \n",
              "423445                False  \n",
              "423446                False  \n",
              "423447                False  \n",
              "\n",
              "[423448 rows x 15 columns]"
            ]
          },
          "metadata": {},
          "execution_count": 274
        }
      ]
    },
    {
      "cell_type": "code",
      "source": [
        "# calculate % of mssing values for each column\n",
        "mydata.isna().mean()* 100"
      ],
      "metadata": {
        "colab": {
          "base_uri": "https://localhost:8080/"
        },
        "id": "mYL-cZL4cIvo",
        "outputId": "54c2f2ec-6719-4bbd-c889-f3b246dd90a2"
      },
      "execution_count": 275,
      "outputs": [
        {
          "output_type": "execute_result",
          "data": {
            "text/plain": [
              "Patron Type Code                 0.000000\n",
              "Patron Type Definition           0.000000\n",
              "Total Checkouts                  0.000000\n",
              "Total Renewals                   0.000000\n",
              "Age Range                        0.050774\n",
              "Home Library Code                0.009446\n",
              "Home Library Definition          0.000000\n",
              "Circulation Active Month         0.000000\n",
              "Circulation Active Year          0.000000\n",
              "Notice Preference Code           0.000000\n",
              "Notice Preference Definition     0.000000\n",
              "Provided Email Address           0.000000\n",
              "Year Patron Registered           0.000000\n",
              "Outside of County                0.000000\n",
              "Supervisor District             26.050424\n",
              "dtype: float64"
            ]
          },
          "metadata": {},
          "execution_count": 275
        }
      ]
    },
    {
      "cell_type": "markdown",
      "source": [
        "From the above cell, it is clear that there are 26% missing values in column Supervisor District.As this variable isnt providing much of information about Patron ,I'm neglecting this variable."
      ],
      "metadata": {
        "id": "LJaxS6CZjP9h"
      }
    },
    {
      "cell_type": "markdown",
      "source": [
        "**Identify numerical, categorical and discrete variables**\n",
        "Since EDA steps can be different depending on type of variables. I'am first creating list of different type of variables.\n"
      ],
      "metadata": {
        "id": "vIiRjsHucn8b"
      }
    },
    {
      "cell_type": "code",
      "source": [
        "# check categorical variables\n",
        "categorical=mydata.select_dtypes(include=['object']).columns.values\n",
        "categorical"
      ],
      "metadata": {
        "colab": {
          "base_uri": "https://localhost:8080/"
        },
        "id": "hBPbA4QUcwAw",
        "outputId": "c7107a96-b7ce-481e-ec1f-681a39cc943f"
      },
      "execution_count": 276,
      "outputs": [
        {
          "output_type": "execute_result",
          "data": {
            "text/plain": [
              "array(['Patron Type Definition', 'Age Range', 'Home Library Code',\n",
              "       'Home Library Definition', 'Circulation Active Month',\n",
              "       'Circulation Active Year', 'Notice Preference Code',\n",
              "       'Notice Preference Definition'], dtype=object)"
            ]
          },
          "metadata": {},
          "execution_count": 276
        }
      ]
    },
    {
      "cell_type": "code",
      "source": [
        "# check continous Variables\n",
        "continuous = mydata.select_dtypes(include = ['float64', 'int64']).columns.values\n",
        "continuous"
      ],
      "metadata": {
        "colab": {
          "base_uri": "https://localhost:8080/"
        },
        "id": "O3ldEpCidIsa",
        "outputId": "98f5ef6e-2138-42c2-d67f-cf3a550cf9bf"
      },
      "execution_count": 277,
      "outputs": [
        {
          "output_type": "execute_result",
          "data": {
            "text/plain": [
              "array(['Patron Type Code', 'Total Checkouts', 'Total Renewals',\n",
              "       'Year Patron Registered', 'Supervisor District'], dtype=object)"
            ]
          },
          "metadata": {},
          "execution_count": 277
        }
      ]
    },
    {
      "cell_type": "code",
      "source": [
        "# Checking number of unique values for continuous variables\n",
        "total_unique_values= mydata[continuous].nunique()\n",
        "for key,value in total_unique_values.items():\n",
        "    if value >0:\n",
        "        print(key,\":\",value)"
      ],
      "metadata": {
        "colab": {
          "base_uri": "https://localhost:8080/"
        },
        "id": "jr6g9olqoCw9",
        "outputId": "6755187a-024a-4313-fa85-e9539e700ecb"
      },
      "execution_count": 278,
      "outputs": [
        {
          "output_type": "stream",
          "name": "stdout",
          "text": [
            "Patron Type Code : 18\n",
            "Total Checkouts : 4274\n",
            "Total Renewals : 2738\n",
            "Year Patron Registered : 14\n",
            "Supervisor District : 11\n"
          ]
        }
      ]
    },
    {
      "cell_type": "code",
      "source": [
        "# Checking number of unique values for categorical variables\n",
        "total_unique_values= mydata[categorical].nunique()\n",
        "for key,value in total_unique_values.items():\n",
        "    if value >0:\n",
        "        print(key,\":\",value)"
      ],
      "metadata": {
        "colab": {
          "base_uri": "https://localhost:8080/"
        },
        "id": "I5eZ2QtdoHCW",
        "outputId": "151beb81-35a1-408d-be52-fdebee650a6d"
      },
      "execution_count": 279,
      "outputs": [
        {
          "output_type": "stream",
          "name": "stdout",
          "text": [
            "Patron Type Definition : 18\n",
            "Age Range : 10\n",
            "Home Library Code : 79\n",
            "Home Library Definition : 35\n",
            "Circulation Active Month : 13\n",
            "Circulation Active Year : 15\n",
            "Notice Preference Code : 4\n",
            "Notice Preference Definition : 4\n"
          ]
        }
      ]
    },
    {
      "cell_type": "code",
      "source": [
        "# checking the  values for continuous variables\n",
        "# will check the firts 10 values\n",
        "for var in continuous:\n",
        "    print(var, mydata[var].unique()[0:10], '\\n')"
      ],
      "metadata": {
        "colab": {
          "base_uri": "https://localhost:8080/"
        },
        "id": "d6p607JxodPl",
        "outputId": "9b26844a-90e8-4a4f-c145-a0b148bb58d3"
      },
      "execution_count": 280,
      "outputs": [
        {
          "output_type": "stream",
          "name": "stdout",
          "text": [
            "Patron Type Code [  0   3   4  15   1   2   5  16   9 100] \n",
            "\n",
            "Total Checkouts [   0   31  126 3002    4   20    3  102   45   88] \n",
            "\n",
            "Total Renewals [   0   22   11 1689    1   31   64    6   12 3146] \n",
            "\n",
            "Year Patron Registered [2014 2010 2016 2015 2003 2004 2011 2013 2009 2012] \n",
            "\n",
            "Supervisor District [ 5.  4. nan  3.  2.  9.  7.  1.  8. 11.] \n",
            "\n"
          ]
        }
      ]
    },
    {
      "cell_type": "code",
      "source": [
        "# check values for categorical variables\n",
        "for var in categorical:\n",
        "    print(var, mydata[var].unique(), '\\n')"
      ],
      "metadata": {
        "colab": {
          "base_uri": "https://localhost:8080/"
        },
        "id": "jjrp_1nmoVGF",
        "outputId": "6a6e53ca-0632-45c4-f99d-65955f0d2175"
      },
      "execution_count": 281,
      "outputs": [
        {
          "output_type": "stream",
          "name": "stdout",
          "text": [
            "Patron Type Definition ['ADULT' 'SENIOR' 'WELCOME' 'TEACHER CARD' 'JUVENILE' 'YOUNG ADULT'\n",
            " 'STAFF' 'DIGITAL ACCESS CARD' 'SPECIAL' 'AT USER ADULT' 'RETIRED STAFF'\n",
            " 'VISITOR' 'BOOKS BY MAIL' 'AT USER SENIOR' 'FRIENDS FOR LIFE'\n",
            " 'AT USER WELCOME' 'AT USER TEEN' 'AT USER JUVENILE'] \n",
            "\n",
            "Age Range ['20 to 24 years' '25 to 34 years' '45 to 54 years' '65 to 74 years'\n",
            " '60 to 64 years' '35 to 44 years' nan '55 to 59 years' '10 to 19 years'\n",
            " '0 to 9 years' '75 years and over'] \n",
            "\n",
            "Home Library Code ['P1' 'S7' 'X' 'M2' 'C2' 'P5' 'A5' 'M6' 'P7' 'P3' 'M4' 'N6' 'O7' 'P9' 'R3'\n",
            " 'YB' 'M8' 'G6' 'E9' 'I5' 'W2' 'O2' 'G4' 'B4' 'V3' 'W4' 'B2' 'N4' 'E7'\n",
            " 'YB4' 'YLW' 'YB9' 'G4AAA' 'YJJ' 'R3J' 'YB2' 'XFFL' 'B4AAA' 'S7J' 'YB1'\n",
            " 'YB7' 'B2AAA' 'YB8' 'O2AAA' 'YB3' 'XFSAA' 'M8AAA' nan 'N6AAA' 'C2J'\n",
            " 'NONE' 'M6AAA' 'YJJAA' 'E9AAA' 'P1AAA' 'YB6' 'W2AAA' 'B2AZZ' 'M4AAA'\n",
            " 'P3AAA' 'N4AAA' 'P7J' 'I7' 'M2AAA' 'YLWAA' 'O7AAA' 'YBJ' 'S7AAA' 'M6ABU'\n",
            " 'P7AAA' 'R3AAA' 'YB5' 'P1J' 'YB10' 'M8J' 'N6J' 'AQUIS' 'E7J' 'W2J' 'O7J'] \n",
            "\n",
            "Home Library Definition ['Park' 'Sunset' 'Main Library' 'Marina' 'Chinatown' 'Portola' 'Anza'\n",
            " 'Mission' 'Potrero' 'Parkside' 'Merced' 'North Beach' 'Ortega' 'Presidio'\n",
            " 'Richmond' 'Unknown' 'Mission Bay' 'Golden Gate Valley' 'Excelsior'\n",
            " 'Ingleside' 'West Portal' 'Ocean View' 'Glen Park' 'Bernal Heights'\n",
            " 'Visitacion Valley' 'Western Addition' 'Bayview/Linda Brooks-Burton'\n",
            " 'Noe Valley/Sally Brunn' 'Eureka Valley/Harvey Milk Memorial'\n",
            " 'Branch Bookmobile (Sunset)' 'Library on Wheels' \"Children's Bookmobile\"\n",
            " 'Branch Bookmobile (West Portal)' 'Branch Bookmobile (Excelsior)'\n",
            " 'Branch Bookmobile (Marina)'] \n",
            "\n",
            "Circulation Active Month ['None' 'April' 'January' 'July' 'June' 'May' 'February' 'August'\n",
            " 'October' 'September' 'March' 'December' 'November'] \n",
            "\n",
            "Circulation Active Year ['None' '2016' '2014' '2015' '2012' '2013' '2011' '2009' '2010' '2007'\n",
            " '2006' '2008' '2005' '2004' '2003'] \n",
            "\n",
            "Notice Preference Code ['z' 'a' 'p' '-'] \n",
            "\n",
            "Notice Preference Definition ['email' 'print' 'phone' 'none'] \n",
            "\n"
          ]
        }
      ]
    },
    {
      "cell_type": "markdown",
      "source": [
        "**Variable distribution**"
      ],
      "metadata": {
        "id": "JXulU1fco6Gw"
      }
    },
    {
      "cell_type": "code",
      "source": [
        "#Let's check the columns with categorical variables\n",
        "mydata[categorical].head()"
      ],
      "metadata": {
        "colab": {
          "base_uri": "https://localhost:8080/",
          "height": 354
        },
        "id": "vCfPZeTVo-Pv",
        "outputId": "4d32f9f6-9a78-46d4-899c-1210c0c46294"
      },
      "execution_count": 282,
      "outputs": [
        {
          "output_type": "execute_result",
          "data": {
            "text/html": [
              "\n",
              "  <div id=\"df-f301ec2b-d948-43cf-af33-bf04547f4a44\">\n",
              "    <div class=\"colab-df-container\">\n",
              "      <div>\n",
              "<style scoped>\n",
              "    .dataframe tbody tr th:only-of-type {\n",
              "        vertical-align: middle;\n",
              "    }\n",
              "\n",
              "    .dataframe tbody tr th {\n",
              "        vertical-align: top;\n",
              "    }\n",
              "\n",
              "    .dataframe thead th {\n",
              "        text-align: right;\n",
              "    }\n",
              "</style>\n",
              "<table border=\"1\" class=\"dataframe\">\n",
              "  <thead>\n",
              "    <tr style=\"text-align: right;\">\n",
              "      <th></th>\n",
              "      <th>Patron Type Definition</th>\n",
              "      <th>Age Range</th>\n",
              "      <th>Home Library Code</th>\n",
              "      <th>Home Library Definition</th>\n",
              "      <th>Circulation Active Month</th>\n",
              "      <th>Circulation Active Year</th>\n",
              "      <th>Notice Preference Code</th>\n",
              "      <th>Notice Preference Definition</th>\n",
              "    </tr>\n",
              "  </thead>\n",
              "  <tbody>\n",
              "    <tr>\n",
              "      <th>0</th>\n",
              "      <td>ADULT</td>\n",
              "      <td>20 to 24 years</td>\n",
              "      <td>P1</td>\n",
              "      <td>Park</td>\n",
              "      <td>None</td>\n",
              "      <td>None</td>\n",
              "      <td>z</td>\n",
              "      <td>email</td>\n",
              "    </tr>\n",
              "    <tr>\n",
              "      <th>1</th>\n",
              "      <td>ADULT</td>\n",
              "      <td>25 to 34 years</td>\n",
              "      <td>S7</td>\n",
              "      <td>Sunset</td>\n",
              "      <td>April</td>\n",
              "      <td>2016</td>\n",
              "      <td>z</td>\n",
              "      <td>email</td>\n",
              "    </tr>\n",
              "    <tr>\n",
              "      <th>2</th>\n",
              "      <td>ADULT</td>\n",
              "      <td>45 to 54 years</td>\n",
              "      <td>P1</td>\n",
              "      <td>Park</td>\n",
              "      <td>None</td>\n",
              "      <td>None</td>\n",
              "      <td>a</td>\n",
              "      <td>print</td>\n",
              "    </tr>\n",
              "    <tr>\n",
              "      <th>3</th>\n",
              "      <td>ADULT</td>\n",
              "      <td>25 to 34 years</td>\n",
              "      <td>X</td>\n",
              "      <td>Main Library</td>\n",
              "      <td>None</td>\n",
              "      <td>None</td>\n",
              "      <td>z</td>\n",
              "      <td>email</td>\n",
              "    </tr>\n",
              "    <tr>\n",
              "      <th>4</th>\n",
              "      <td>ADULT</td>\n",
              "      <td>45 to 54 years</td>\n",
              "      <td>M2</td>\n",
              "      <td>Marina</td>\n",
              "      <td>January</td>\n",
              "      <td>2016</td>\n",
              "      <td>z</td>\n",
              "      <td>email</td>\n",
              "    </tr>\n",
              "  </tbody>\n",
              "</table>\n",
              "</div>\n",
              "      <button class=\"colab-df-convert\" onclick=\"convertToInteractive('df-f301ec2b-d948-43cf-af33-bf04547f4a44')\"\n",
              "              title=\"Convert this dataframe to an interactive table.\"\n",
              "              style=\"display:none;\">\n",
              "        \n",
              "  <svg xmlns=\"http://www.w3.org/2000/svg\" height=\"24px\"viewBox=\"0 0 24 24\"\n",
              "       width=\"24px\">\n",
              "    <path d=\"M0 0h24v24H0V0z\" fill=\"none\"/>\n",
              "    <path d=\"M18.56 5.44l.94 2.06.94-2.06 2.06-.94-2.06-.94-.94-2.06-.94 2.06-2.06.94zm-11 1L8.5 8.5l.94-2.06 2.06-.94-2.06-.94L8.5 2.5l-.94 2.06-2.06.94zm10 10l.94 2.06.94-2.06 2.06-.94-2.06-.94-.94-2.06-.94 2.06-2.06.94z\"/><path d=\"M17.41 7.96l-1.37-1.37c-.4-.4-.92-.59-1.43-.59-.52 0-1.04.2-1.43.59L10.3 9.45l-7.72 7.72c-.78.78-.78 2.05 0 2.83L4 21.41c.39.39.9.59 1.41.59.51 0 1.02-.2 1.41-.59l7.78-7.78 2.81-2.81c.8-.78.8-2.07 0-2.86zM5.41 20L4 18.59l7.72-7.72 1.47 1.35L5.41 20z\"/>\n",
              "  </svg>\n",
              "      </button>\n",
              "      \n",
              "  <style>\n",
              "    .colab-df-container {\n",
              "      display:flex;\n",
              "      flex-wrap:wrap;\n",
              "      gap: 12px;\n",
              "    }\n",
              "\n",
              "    .colab-df-convert {\n",
              "      background-color: #E8F0FE;\n",
              "      border: none;\n",
              "      border-radius: 50%;\n",
              "      cursor: pointer;\n",
              "      display: none;\n",
              "      fill: #1967D2;\n",
              "      height: 32px;\n",
              "      padding: 0 0 0 0;\n",
              "      width: 32px;\n",
              "    }\n",
              "\n",
              "    .colab-df-convert:hover {\n",
              "      background-color: #E2EBFA;\n",
              "      box-shadow: 0px 1px 2px rgba(60, 64, 67, 0.3), 0px 1px 3px 1px rgba(60, 64, 67, 0.15);\n",
              "      fill: #174EA6;\n",
              "    }\n",
              "\n",
              "    [theme=dark] .colab-df-convert {\n",
              "      background-color: #3B4455;\n",
              "      fill: #D2E3FC;\n",
              "    }\n",
              "\n",
              "    [theme=dark] .colab-df-convert:hover {\n",
              "      background-color: #434B5C;\n",
              "      box-shadow: 0px 1px 3px 1px rgba(0, 0, 0, 0.15);\n",
              "      filter: drop-shadow(0px 1px 2px rgba(0, 0, 0, 0.3));\n",
              "      fill: #FFFFFF;\n",
              "    }\n",
              "  </style>\n",
              "\n",
              "      <script>\n",
              "        const buttonEl =\n",
              "          document.querySelector('#df-f301ec2b-d948-43cf-af33-bf04547f4a44 button.colab-df-convert');\n",
              "        buttonEl.style.display =\n",
              "          google.colab.kernel.accessAllowed ? 'block' : 'none';\n",
              "\n",
              "        async function convertToInteractive(key) {\n",
              "          const element = document.querySelector('#df-f301ec2b-d948-43cf-af33-bf04547f4a44');\n",
              "          const dataTable =\n",
              "            await google.colab.kernel.invokeFunction('convertToInteractive',\n",
              "                                                     [key], {});\n",
              "          if (!dataTable) return;\n",
              "\n",
              "          const docLinkHtml = 'Like what you see? Visit the ' +\n",
              "            '<a target=\"_blank\" href=https://colab.research.google.com/notebooks/data_table.ipynb>data table notebook</a>'\n",
              "            + ' to learn more about interactive tables.';\n",
              "          element.innerHTML = '';\n",
              "          dataTable['output_type'] = 'display_data';\n",
              "          await google.colab.output.renderOutput(dataTable, element);\n",
              "          const docLink = document.createElement('div');\n",
              "          docLink.innerHTML = docLinkHtml;\n",
              "          element.appendChild(docLink);\n",
              "        }\n",
              "      </script>\n",
              "    </div>\n",
              "  </div>\n",
              "  "
            ],
            "text/plain": [
              "  Patron Type Definition       Age Range Home Library Code  \\\n",
              "0                  ADULT  20 to 24 years                P1   \n",
              "1                  ADULT  25 to 34 years                S7   \n",
              "2                  ADULT  45 to 54 years                P1   \n",
              "3                  ADULT  25 to 34 years                 X   \n",
              "4                  ADULT  45 to 54 years                M2   \n",
              "\n",
              "  Home Library Definition Circulation Active Month Circulation Active Year  \\\n",
              "0                    Park                     None                    None   \n",
              "1                  Sunset                    April                    2016   \n",
              "2                    Park                     None                    None   \n",
              "3            Main Library                     None                    None   \n",
              "4                  Marina                  January                    2016   \n",
              "\n",
              "  Notice Preference Code Notice Preference Definition  \n",
              "0                      z                        email  \n",
              "1                      z                        email  \n",
              "2                      a                        print  \n",
              "3                      z                        email  \n",
              "4                      z                        email  "
            ]
          },
          "metadata": {},
          "execution_count": 282
        }
      ]
    },
    {
      "cell_type": "code",
      "source": [
        "cat_freq = mydata['Patron Type Definition'].value_counts() / len(mydata)\n",
        "print(cat_freq)"
      ],
      "metadata": {
        "colab": {
          "base_uri": "https://localhost:8080/"
        },
        "id": "5ccyRb3kpGgb",
        "outputId": "f0daf66d-db38-4935-aa97-0ea7f1315de9"
      },
      "execution_count": 283,
      "outputs": [
        {
          "output_type": "stream",
          "name": "stdout",
          "text": [
            "ADULT                  0.642938\n",
            "JUVENILE               0.139824\n",
            "SENIOR                 0.098286\n",
            "YOUNG ADULT            0.068051\n",
            "WELCOME                0.035261\n",
            "TEACHER CARD           0.004208\n",
            "DIGITAL ACCESS CARD    0.004119\n",
            "SPECIAL                0.002307\n",
            "STAFF                  0.002036\n",
            "VISITOR                0.000980\n",
            "AT USER ADULT          0.000824\n",
            "RETIRED STAFF          0.000371\n",
            "BOOKS BY MAIL          0.000224\n",
            "AT USER SENIOR         0.000156\n",
            "AT USER JUVENILE       0.000111\n",
            "AT USER WELCOME        0.000106\n",
            "AT USER TEEN           0.000104\n",
            "FRIENDS FOR LIFE       0.000094\n",
            "Name: Patron Type Definition, dtype: float64\n"
          ]
        }
      ]
    },
    {
      "cell_type": "code",
      "source": [
        "fig = cat_freq.sort_values(ascending=False).plot.bar()\n",
        "fig.axhline(y=0.05, color='red')\n",
        "fig.set_ylabel('percentage of Patron definition')\n",
        "fig.set_xlabel('Patron Type Definition')\n",
        "fig.set_title('Identifying Rare Categories')\n",
        "plt.show()"
      ],
      "metadata": {
        "colab": {
          "base_uri": "https://localhost:8080/",
          "height": 398
        },
        "id": "P74ABcpbpxjX",
        "outputId": "a7c298e9-4ec2-4a6d-ddbe-7ae95e4f146f"
      },
      "execution_count": 284,
      "outputs": [
        {
          "output_type": "display_data",
          "data": {
            "image/png": "[encoded data removed]",
            "text/plain": [
              "<Figure size 432x288 with 1 Axes>"
            ]
          },
          "metadata": {
            "needs_background": "light"
          }
        }
      ]
    },
    {
      "cell_type": "markdown",
      "source": [
        "By viewing the plot, it is evident that ADULT patrons are higher in frequency and constitute majorly to the dataset.The categories below the red line are rare categories that appear less 5% of the dataset."
      ],
      "metadata": {
        "id": "wcvjEJq2kOVv"
      }
    },
    {
      "cell_type": "markdown",
      "source": [
        "**Distribution of continuous and discrete variables** -\n",
        "using histograms, Q-Q plots and Boxplots to check the distribution of continuous varaibles."
      ],
      "metadata": {
        "id": "1ei3nFgKsXAb"
      }
    },
    {
      "cell_type": "code",
      "source": [
        "def diagnostic_plots(mydata, variable):\n",
        "    # function takes a dataframe (df) and\n",
        "    # the variable of interest as arguments\n",
        "\n",
        "    # define figure size\n",
        "    plt.figure(figsize=(16, 4))\n",
        "\n",
        "    # histogram\n",
        "    # plt.subplot(num rows, num columns, index)\n",
        "    plt.subplot(1, 3, 1)\n",
        "    sns.histplot(mydata[variable], bins=30)\n",
        "    plt.title('Histogram')\n",
        "\n",
        "    # boxplot\n",
        "    # plt.subplot(num rows, num columns, index)\n",
        "    plt.subplot(1, 3, 2)\n",
        "    sns.boxplot(y=mydata[variable])\n",
        "    plt.title('Boxplot')\n",
        "\n",
        "    # plt.subplot(num rows, num columns, index)\n",
        "    plt.subplot(1, 3, 3)\n",
        "    stats.probplot(mydata[variable], dist=\"norm\", plot=plt)\n",
        "    plt.title('Q-Q plot')\n",
        "\n",
        "    plt.show()"
      ],
      "metadata": {
        "id": "8Yo_vAPcsi65"
      },
      "execution_count": 285,
      "outputs": []
    },
    {
      "cell_type": "code",
      "source": [
        "for var in continuous:\n",
        "    diagnostic_plots(mydata, var)"
      ],
      "metadata": {
        "colab": {
          "base_uri": "https://localhost:8080/",
          "height": 1000
        },
        "id": "TU0rXuRWszqr",
        "outputId": "8f8ab408-77a5-49e9-f521-ef617470c8d6"
      },
      "execution_count": 286,
      "outputs": [
        {
          "output_type": "display_data",
          "data": {
            "image/png": "[encoded data removed]",
            "text/plain": [
              "<Figure size 1152x288 with 3 Axes>"
            ]
          },
          "metadata": {
            "needs_background": "light"
          }
        },
        {
          "output_type": "display_data",
          "data": {
            "image/png": "[encoded data removed]",
            "text/plain": [
              "<Figure size 1152x288 with 3 Axes>"
            ]
          },
          "metadata": {
            "needs_background": "light"
          }
        },
        {
          "output_type": "display_data",
          "data": {
            "image/png": "[encoded data removed]",
            "text/plain": [
              "<Figure size 1152x288 with 3 Axes>"
            ]
          },
          "metadata": {
            "needs_background": "light"
          }
        },
        {
          "output_type": "display_data",
          "data": {
            "image/png": "[encoded data removed]",
            "text/plain": [
              "<Figure size 1152x288 with 3 Axes>"
            ]
          },
          "metadata": {
            "needs_background": "light"
          }
        },
        {
          "output_type": "display_data",
          "data": {
            "image/png": "[encoded data removed]",
            "text/plain": [
              "<Figure size 1152x288 with 3 Axes>"
            ]
          },
          "metadata": {
            "needs_background": "light"
          }
        }
      ]
    },
    {
      "cell_type": "markdown",
      "source": [
        "1)From the first 3 QQ plots, there is high frequency in values,therefore its quantiles will increase slower in this region relative to the standard normal quantiles.\n",
        "2)From the histogram,year 2003 there was more registration than in any of the years.It can be inferred that, they had more advertisemnts and attration towards visiting the building.\n",
        "3)From Boxplots  2 and 3 , there isnt much of evidence for outlier in this huge dataset."
      ],
      "metadata": {
        "id": "T1AOvSgWmJnk"
      }
    },
    {
      "cell_type": "markdown",
      "source": [
        "**Visualizing the data**"
      ],
      "metadata": {
        "id": "XTNhh-BS0xJh"
      }
    },
    {
      "cell_type": "code",
      "source": [
        "# Bar chart \n",
        "plt.figure(figsize=(16, 9))\n",
        "sns.barplot(y=mydata['Total Checkouts'], x=mydata['Age Range'])\n",
        "plt.title(\"Average Score for Age Range by Total Checkouts\")"
      ],
      "metadata": {
        "colab": {
          "base_uri": "https://localhost:8080/",
          "height": 584
        },
        "id": "TuPJQ1u101_0",
        "outputId": "b1d9bbda-142a-4f2e-c071-0f5f12e5d762"
      },
      "execution_count": 287,
      "outputs": [
        {
          "output_type": "execute_result",
          "data": {
            "text/plain": [
              "Text(0.5, 1.0, 'Average Score for Age Range by Total Checkouts')"
            ]
          },
          "metadata": {},
          "execution_count": 287
        },
        {
          "output_type": "display_data",
          "data": {
            "image/png": "[encoded data removed]",
            "text/plain": [
              "<Figure size 1152x648 with 1 Axes>"
            ]
          },
          "metadata": {
            "needs_background": "light"
          }
        }
      ]
    },
    {
      "cell_type": "code",
      "source": [
        "# Bar chart 2\n",
        "plt.figure(figsize=(20, 9))\n",
        "sns.barplot(x=mydata['Total Renewals'], y=mydata['Patron Type Definition'])\n",
        "plt.title(\"Average Score for Patron Type Definition by Total Renewals\")"
      ],
      "metadata": {
        "colab": {
          "base_uri": "https://localhost:8080/",
          "height": 538
        },
        "id": "VfAKz39MnmwF",
        "outputId": "2f162748-95cf-411d-9969-2c0ee98a7eef"
      },
      "execution_count": 288,
      "outputs": [
        {
          "output_type": "execute_result",
          "data": {
            "text/plain": [
              "Text(0.5, 1.0, 'Average Score for Patron Type Definition by Total Renewals')"
            ]
          },
          "metadata": {},
          "execution_count": 288
        },
        {
          "output_type": "display_data",
          "data": {
            "image/png": "[encoded data removed]",
            "text/plain": [
              "<Figure size 1440x648 with 1 Axes>"
            ]
          },
          "metadata": {
            "needs_background": "light"
          }
        }
      ]
    },
    {
      "cell_type": "code",
      "source": [
        "plt.figure(figsize=(16, 9))\n",
        "\n",
        "sns.barplot(x=mydata['Circulation Active Month'], y=mydata['Total Renewals'])"
      ],
      "metadata": {
        "colab": {
          "base_uri": "https://localhost:8080/",
          "height": 568
        },
        "id": "jgDdci9JrpLp",
        "outputId": "110f77bf-c58a-43bd-8b25-597692a5701a"
      },
      "execution_count": 290,
      "outputs": [
        {
          "output_type": "execute_result",
          "data": {
            "text/plain": [
              "<matplotlib.axes._subplots.AxesSubplot at 0x7f600880b0d0>"
            ]
          },
          "metadata": {},
          "execution_count": 290
        },
        {
          "output_type": "display_data",
          "data": {
            "image/png": "[encoded data removed]",
            "text/plain": [
              "<Figure size 1152x648 with 1 Axes>"
            ]
          },
          "metadata": {
            "needs_background": "light"
          }
        }
      ]
    },
    {
      "cell_type": "code",
      "source": [
        "sns.regplot(x=mydata['Total Checkouts'], y=mydata['Total Renewals'])"
      ],
      "metadata": {
        "colab": {
          "base_uri": "https://localhost:8080/",
          "height": 296
        },
        "id": "KsTFZ6IkoOFF",
        "outputId": "559db414-08e1-4832-c476-8883f878861c"
      },
      "execution_count": 289,
      "outputs": [
        {
          "output_type": "execute_result",
          "data": {
            "text/plain": [
              "<matplotlib.axes._subplots.AxesSubplot at 0x7f6008840b50>"
            ]
          },
          "metadata": {},
          "execution_count": 289
        },
        {
          "output_type": "display_data",
          "data": {
            "image/png": "[encoded data removed]",
            "text/plain": [
              "<Figure size 432x288 with 1 Axes>"
            ]
          },
          "metadata": {
            "needs_background": "light"
          }
        }
      ]
    },
    {
      "cell_type": "code",
      "source": [
        "sns.swarmplot(x='Outside of County',y='Total Checkouts',data=mydata)"
      ],
      "metadata": {
        "id": "N7QDWPpCssO7"
      },
      "execution_count": null,
      "outputs": []
    },
    {
      "cell_type": "markdown",
      "source": [
        "**Summary**\n",
        "\n",
        "\n",
        "*   Out of all the datasets, I chose SF Library Usage data because I wanted to challenge myself by taking over 400k observations and working on a dataset that has many Null values and rare categories.\n",
        "\n",
        "*   I will state the inferences I got from working on this dataset.I chose to do Explanatory data analysis part of the data as cleaning and visualizing tells more than any part.\n",
        "\n",
        "*   From Bar chart2, the higher the Average Age, the greater the value of Total Renewals, and the high value of the increase in the age range between 65 and 74, And less Total Renewals between the Age range between 25 to 34. From this I would like to state that, there are less renewals for age range 25 to 34 , this might be due to working class, grad students.Age range 65-74 mostly dont fall into this category.\n",
        "\n",
        "*   From Bar chart1, the higher the average age, the greater the value of Total Checkouts, and the high value of the increase in the age range between 65 and 75, And less Total Checkouts between the Age range between 25 to 34. This is similar to the Total Renewals, students, adults at this age range mostly belong to working category that might be a influencial factor for this.\n",
        "\n",
        "*  I majorly stuck to variables that i considered to be influencial, so to make sure these go hand in hand I plotted the last graph.\n",
        "\n",
        "* I also wanted to know whether the Circulation Month was a factor influencing renewals, by plotting bar char it is evident that there is high renewals in July and the lowest was October.This may be due to,Summer vacation falls in July and many grads, school students tend to purchase or renew at this point.But it is less in October, because considering the fact there are holidays during this month.\n",
        "\n",
        "* Also the variable Outside of County is a major influencial variable when considering total checkouts and renewals.It is obvious that people residing in the county tend to checkout and renew as often than people residing outside of the county.\n",
        "\n",
        "* I have also worked on this data set using R where I did basic EDA that provides the same answer that I have listed above.\n",
        "\n",
        "*  I wanted to predict the Patron Type by using the age range,outside of county,home library definition but as the data needed more data cleaning and processing I wasn't able to proceed with time limit.\n",
        "\n",
        "\n",
        "\n",
        "\n",
        "\n",
        "\n",
        "\n",
        "\n",
        "\n",
        "\n",
        "\n",
        "\n"
      ],
      "metadata": {
        "id": "ZMOru1AfonWK"
      }
    }
  ]
}